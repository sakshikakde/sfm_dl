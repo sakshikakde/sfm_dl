{
 "metadata": {
  "language_info": {
   "codemirror_mode": {
    "name": "ipython",
    "version": 3
   },
   "file_extension": ".py",
   "mimetype": "text/x-python",
   "name": "python",
   "nbconvert_exporter": "python",
   "pygments_lexer": "ipython3",
   "version": "3.6.9"
  },
  "orig_nbformat": 2,
  "kernelspec": {
   "name": "python369jvsc74a57bd031f2aee4e71d21fbe5cf8b01ff0e069b9275f58929596ceb00d14d90e3e16cd6",
   "display_name": "Python 3.6.9 64-bit"
  },
  "metadata": {
   "interpreter": {
    "hash": "31f2aee4e71d21fbe5cf8b01ff0e069b9275f58929596ceb00d14d90e3e16cd6"
   }
  }
 },
 "nbformat": 4,
 "nbformat_minor": 2,
 "cells": [
  {
   "cell_type": "code",
   "execution_count": 1,
   "metadata": {},
   "outputs": [],
   "source": [
    "from __future__ import division\n",
    "import sys\n",
    "import cv2\n",
    "import os\n",
    "import numpy as np\n",
    "import argparse\n",
    "from depth_evaluation_utils import *"
   ]
  },
  {
   "cell_type": "code",
   "execution_count": 2,
   "metadata": {},
   "outputs": [],
   "source": [
    "class ARGS():\n",
    "    kitti_dir = '../../TrainingAndValData/Kitti_raw/'\n",
    "    pred_file = '../../sfmLearner_checkpoints/outputs/depth_noSSIM/model-192572.npy'\n",
    "    test_file_list = '../data/kitti/test_files_eigen.txt'\n",
    "    min_depth = 1e-3\n",
    "    max_depth = 80\n",
    "args = ARGS()\n"
   ]
  },
  {
   "cell_type": "code",
   "execution_count": 3,
   "metadata": {},
   "outputs": [],
   "source": [
    "def get_available_data(dataset_dir, test_files):\n",
    "    \n",
    "    def dircheck(dirs, folder):\n",
    "        for directory in dirs:\n",
    "            if folder==directory:\n",
    "                return True\n",
    "        return False\n",
    "\n",
    "    dirs = next(os.walk(dataset_dir))[1] # get list of all child dirs\n",
    "    available_test_files = []\n",
    "    # for every test_file, check whether raw data is available\n",
    "    counter = 0\n",
    "    for i in range(len(test_files)): \n",
    "        folder = test_files[i][:10]\n",
    "        if dircheck(dirs, folder):\n",
    "            available_test_files.append(test_files[i])\n",
    "        else:\n",
    "            counter +=1\n",
    "    print(\"No. of test files not available:\", counter)\n",
    "    return available_test_files"
   ]
  },
  {
   "cell_type": "code",
   "execution_count": 4,
   "metadata": {},
   "outputs": [],
   "source": [
    "# read depth predictions\n",
    "pred_depths = np.load(args.pred_file)\n",
    "# read paths\n",
    "test_files = read_text_lines(args.test_file_list)\n"
   ]
  },
  {
   "cell_type": "code",
   "execution_count": 5,
   "metadata": {},
   "outputs": [
    {
     "output_type": "stream",
     "name": "stdout",
     "text": [
      "No. of test files not available: 150\n"
     ]
    }
   ],
   "source": [
    "test_files = get_available_data(args.kitti_dir, test_files)\n",
    "\n",
    "# from paths - read ground truth files\n",
    "gt_files, gt_calib, im_sizes, im_files, cams = read_file_data(test_files, args.kitti_dir)\n",
    "num_test = len(im_files)"
   ]
  },
  {
   "cell_type": "code",
   "execution_count": 11,
   "metadata": {},
   "outputs": [
    {
     "output_type": "execute_result",
     "data": {
      "text/plain": [
       "['7.533745e-03',\n",
       " '-9.999714e-01',\n",
       " '-6.166020e-04',\n",
       " '1.480249e-02',\n",
       " '7.280733e-04',\n",
       " '-9.998902e-01',\n",
       " '9.998621e-01',\n",
       " '7.523790e-03',\n",
       " '1.480755e-02']"
      ]
     },
     "metadata": {},
     "execution_count": 11
    }
   ],
   "source": [
    "velo2cam = read_calib_file(gt_calib[0] + 'calib_velo_to_cam.txt')\n",
    "np.array(map(float, velo2cam['R'].split()))"
   ]
  },
  {
   "cell_type": "code",
   "execution_count": null,
   "metadata": {},
   "outputs": [],
   "source": []
  },
  {
   "cell_type": "code",
   "execution_count": 8,
   "metadata": {},
   "outputs": [
    {
     "output_type": "error",
     "ename": "ValueError",
     "evalue": "cannot reshape array of size 1 into shape (3,3)",
     "traceback": [
      "\u001b[0;31m---------------------------------------------------------------------------\u001b[0m",
      "\u001b[0;31mValueError\u001b[0m                                Traceback (most recent call last)",
      "\u001b[0;32m<ipython-input-8-c1a3760388a5>\u001b[0m in \u001b[0;36m<module>\u001b[0;34m\u001b[0m\n\u001b[1;32m      6\u001b[0m                                 \u001b[0mcamera_id\u001b[0m\u001b[0;34m,\u001b[0m\u001b[0;34m\u001b[0m\u001b[0;34m\u001b[0m\u001b[0m\n\u001b[1;32m      7\u001b[0m                                 \u001b[0;32mFalse\u001b[0m\u001b[0;34m,\u001b[0m\u001b[0;34m\u001b[0m\u001b[0;34m\u001b[0m\u001b[0m\n\u001b[0;32m----> 8\u001b[0;31m                                 True)\n\u001b[0m",
      "\u001b[0;32m~/CMSC733/SfMLearner/kitti_eval/depth_evaluation_utils.py\u001b[0m in \u001b[0;36mgenerate_depth_map\u001b[0;34m(calib_dir, velo_file_name, im_shape, cam, interp, vel_depth)\u001b[0m\n\u001b[1;32m    173\u001b[0m     \u001b[0mcam2cam\u001b[0m \u001b[0;34m=\u001b[0m \u001b[0mread_calib_file\u001b[0m\u001b[0;34m(\u001b[0m\u001b[0mcalib_dir\u001b[0m \u001b[0;34m+\u001b[0m \u001b[0;34m'calib_cam_to_cam.txt'\u001b[0m\u001b[0;34m)\u001b[0m\u001b[0;34m\u001b[0m\u001b[0;34m\u001b[0m\u001b[0m\n\u001b[1;32m    174\u001b[0m     \u001b[0mvelo2cam\u001b[0m \u001b[0;34m=\u001b[0m \u001b[0mread_calib_file\u001b[0m\u001b[0;34m(\u001b[0m\u001b[0mcalib_dir\u001b[0m \u001b[0;34m+\u001b[0m \u001b[0;34m'calib_velo_to_cam.txt'\u001b[0m\u001b[0;34m)\u001b[0m\u001b[0;34m\u001b[0m\u001b[0;34m\u001b[0m\u001b[0m\n\u001b[0;32m--> 175\u001b[0;31m     \u001b[0mvelo2cam\u001b[0m \u001b[0;34m=\u001b[0m \u001b[0mnp\u001b[0m\u001b[0;34m.\u001b[0m\u001b[0mhstack\u001b[0m\u001b[0;34m(\u001b[0m\u001b[0;34m(\u001b[0m\u001b[0mvelo2cam\u001b[0m\u001b[0;34m[\u001b[0m\u001b[0;34m'R'\u001b[0m\u001b[0;34m]\u001b[0m\u001b[0;34m.\u001b[0m\u001b[0mreshape\u001b[0m\u001b[0;34m(\u001b[0m\u001b[0;36m3\u001b[0m\u001b[0;34m,\u001b[0m\u001b[0;36m3\u001b[0m\u001b[0;34m)\u001b[0m\u001b[0;34m,\u001b[0m \u001b[0mvelo2cam\u001b[0m\u001b[0;34m[\u001b[0m\u001b[0;34m'T'\u001b[0m\u001b[0;34m]\u001b[0m\u001b[0;34m[\u001b[0m\u001b[0;34m...\u001b[0m\u001b[0;34m,\u001b[0m \u001b[0mnp\u001b[0m\u001b[0;34m.\u001b[0m\u001b[0mnewaxis\u001b[0m\u001b[0;34m]\u001b[0m\u001b[0;34m)\u001b[0m\u001b[0;34m)\u001b[0m\u001b[0;34m\u001b[0m\u001b[0;34m\u001b[0m\u001b[0m\n\u001b[0m\u001b[1;32m    176\u001b[0m     \u001b[0mvelo2cam\u001b[0m \u001b[0;34m=\u001b[0m \u001b[0mnp\u001b[0m\u001b[0;34m.\u001b[0m\u001b[0mvstack\u001b[0m\u001b[0;34m(\u001b[0m\u001b[0;34m(\u001b[0m\u001b[0mvelo2cam\u001b[0m\u001b[0;34m,\u001b[0m \u001b[0mnp\u001b[0m\u001b[0;34m.\u001b[0m\u001b[0marray\u001b[0m\u001b[0;34m(\u001b[0m\u001b[0;34m[\u001b[0m\u001b[0;36m0\u001b[0m\u001b[0;34m,\u001b[0m \u001b[0;36m0\u001b[0m\u001b[0;34m,\u001b[0m \u001b[0;36m0\u001b[0m\u001b[0;34m,\u001b[0m \u001b[0;36m1.0\u001b[0m\u001b[0;34m]\u001b[0m\u001b[0;34m)\u001b[0m\u001b[0;34m)\u001b[0m\u001b[0;34m)\u001b[0m\u001b[0;34m\u001b[0m\u001b[0;34m\u001b[0m\u001b[0m\n\u001b[1;32m    177\u001b[0m \u001b[0;34m\u001b[0m\u001b[0m\n",
      "\u001b[0;31mValueError\u001b[0m: cannot reshape array of size 1 into shape (3,3)"
     ]
    }
   ],
   "source": [
    "t_id = 0\n",
    "camera_id = cams[t_id]  # 2 is left, 3 is right\n",
    "depth = generate_depth_map(gt_calib[t_id], \n",
    "                                gt_files[t_id], \n",
    "                                im_sizes[t_id], \n",
    "                                camera_id, \n",
    "                                False, \n",
    "                                True)"
   ]
  },
  {
   "cell_type": "code",
   "execution_count": null,
   "metadata": {},
   "outputs": [],
   "source": [
    "## obtain groundtruths \n",
    "gt_depths = []\n",
    "pred_depths_resized = []\n",
    "for t_id in range(num_test):\n",
    "    camera_id = cams[t_id]  # 2 is left, 3 is right\n",
    "    pred_depths_resized.append(\n",
    "        cv2.resize(pred_depths[t_id], \n",
    "                    (im_sizes[t_id][1], im_sizes[t_id][0]), \n",
    "                    interpolation=cv2.INTER_LINEAR))\n",
    "    depth = generate_depth_map(gt_calib[t_id], \n",
    "                                gt_files[t_id], \n",
    "                                im_sizes[t_id], \n",
    "                                camera_id, \n",
    "                                False, \n",
    "                                True)\n",
    "    gt_depths.append(depth.astype(np.float32))"
   ]
  },
  {
   "cell_type": "code",
   "execution_count": 6,
   "metadata": {},
   "outputs": [
    {
     "output_type": "stream",
     "name": "stdout",
     "text": [
      "No. of test files not available: 150\n"
     ]
    },
    {
     "output_type": "error",
     "ename": "ValueError",
     "evalue": "cannot reshape array of size 1 into shape (3,3)",
     "traceback": [
      "\u001b[0;31m---------------------------------------------------------------------------\u001b[0m",
      "\u001b[0;31mValueError\u001b[0m                                Traceback (most recent call last)",
      "\u001b[0;32m<ipython-input-6-9aafd2aa2439>\u001b[0m in \u001b[0;36m<module>\u001b[0;34m\u001b[0m\n\u001b[1;32m     21\u001b[0m                                 \u001b[0mcamera_id\u001b[0m\u001b[0;34m,\u001b[0m\u001b[0;34m\u001b[0m\u001b[0;34m\u001b[0m\u001b[0m\n\u001b[1;32m     22\u001b[0m                                 \u001b[0;32mFalse\u001b[0m\u001b[0;34m,\u001b[0m\u001b[0;34m\u001b[0m\u001b[0;34m\u001b[0m\u001b[0m\n\u001b[0;32m---> 23\u001b[0;31m                                 True)\n\u001b[0m\u001b[1;32m     24\u001b[0m     \u001b[0mgt_depths\u001b[0m\u001b[0;34m.\u001b[0m\u001b[0mappend\u001b[0m\u001b[0;34m(\u001b[0m\u001b[0mdepth\u001b[0m\u001b[0;34m.\u001b[0m\u001b[0mastype\u001b[0m\u001b[0;34m(\u001b[0m\u001b[0mnp\u001b[0m\u001b[0;34m.\u001b[0m\u001b[0mfloat32\u001b[0m\u001b[0;34m)\u001b[0m\u001b[0;34m)\u001b[0m\u001b[0;34m\u001b[0m\u001b[0;34m\u001b[0m\u001b[0m\n\u001b[1;32m     25\u001b[0m \u001b[0mnp\u001b[0m\u001b[0;34m.\u001b[0m\u001b[0msave\u001b[0m\u001b[0;34m(\u001b[0m\u001b[0;34m'../sfmLearner_checkpoints/outputs/gt_depths.npy'\u001b[0m\u001b[0;34m,\u001b[0m\u001b[0mnp\u001b[0m\u001b[0;34m.\u001b[0m\u001b[0marray\u001b[0m\u001b[0;34m(\u001b[0m\u001b[0mgt_depths\u001b[0m\u001b[0;34m)\u001b[0m\u001b[0;34m)\u001b[0m\u001b[0;34m\u001b[0m\u001b[0;34m\u001b[0m\u001b[0m\n",
      "\u001b[0;32m~/CMSC733/SfMLearner/kitti_eval/depth_evaluation_utils.py\u001b[0m in \u001b[0;36mgenerate_depth_map\u001b[0;34m(calib_dir, velo_file_name, im_shape, cam, interp, vel_depth)\u001b[0m\n\u001b[1;32m    173\u001b[0m     \u001b[0mcam2cam\u001b[0m \u001b[0;34m=\u001b[0m \u001b[0mread_calib_file\u001b[0m\u001b[0;34m(\u001b[0m\u001b[0mcalib_dir\u001b[0m \u001b[0;34m+\u001b[0m \u001b[0;34m'calib_cam_to_cam.txt'\u001b[0m\u001b[0;34m)\u001b[0m\u001b[0;34m\u001b[0m\u001b[0;34m\u001b[0m\u001b[0m\n\u001b[1;32m    174\u001b[0m     \u001b[0mvelo2cam\u001b[0m \u001b[0;34m=\u001b[0m \u001b[0mread_calib_file\u001b[0m\u001b[0;34m(\u001b[0m\u001b[0mcalib_dir\u001b[0m \u001b[0;34m+\u001b[0m \u001b[0;34m'calib_velo_to_cam.txt'\u001b[0m\u001b[0;34m)\u001b[0m\u001b[0;34m\u001b[0m\u001b[0;34m\u001b[0m\u001b[0m\n\u001b[0;32m--> 175\u001b[0;31m     \u001b[0mvelo2cam\u001b[0m \u001b[0;34m=\u001b[0m \u001b[0mnp\u001b[0m\u001b[0;34m.\u001b[0m\u001b[0mhstack\u001b[0m\u001b[0;34m(\u001b[0m\u001b[0;34m(\u001b[0m\u001b[0mvelo2cam\u001b[0m\u001b[0;34m[\u001b[0m\u001b[0;34m'R'\u001b[0m\u001b[0;34m]\u001b[0m\u001b[0;34m.\u001b[0m\u001b[0mreshape\u001b[0m\u001b[0;34m(\u001b[0m\u001b[0;36m3\u001b[0m\u001b[0;34m,\u001b[0m\u001b[0;36m3\u001b[0m\u001b[0;34m)\u001b[0m\u001b[0;34m,\u001b[0m \u001b[0mvelo2cam\u001b[0m\u001b[0;34m[\u001b[0m\u001b[0;34m'T'\u001b[0m\u001b[0;34m]\u001b[0m\u001b[0;34m[\u001b[0m\u001b[0;34m...\u001b[0m\u001b[0;34m,\u001b[0m \u001b[0mnp\u001b[0m\u001b[0;34m.\u001b[0m\u001b[0mnewaxis\u001b[0m\u001b[0;34m]\u001b[0m\u001b[0;34m)\u001b[0m\u001b[0;34m)\u001b[0m\u001b[0;34m\u001b[0m\u001b[0;34m\u001b[0m\u001b[0m\n\u001b[0m\u001b[1;32m    176\u001b[0m     \u001b[0mvelo2cam\u001b[0m \u001b[0;34m=\u001b[0m \u001b[0mnp\u001b[0m\u001b[0;34m.\u001b[0m\u001b[0mvstack\u001b[0m\u001b[0;34m(\u001b[0m\u001b[0;34m(\u001b[0m\u001b[0mvelo2cam\u001b[0m\u001b[0;34m,\u001b[0m \u001b[0mnp\u001b[0m\u001b[0;34m.\u001b[0m\u001b[0marray\u001b[0m\u001b[0;34m(\u001b[0m\u001b[0;34m[\u001b[0m\u001b[0;36m0\u001b[0m\u001b[0;34m,\u001b[0m \u001b[0;36m0\u001b[0m\u001b[0;34m,\u001b[0m \u001b[0;36m0\u001b[0m\u001b[0;34m,\u001b[0m \u001b[0;36m1.0\u001b[0m\u001b[0;34m]\u001b[0m\u001b[0;34m)\u001b[0m\u001b[0;34m)\u001b[0m\u001b[0;34m)\u001b[0m\u001b[0;34m\u001b[0m\u001b[0;34m\u001b[0m\u001b[0m\n\u001b[1;32m    177\u001b[0m \u001b[0;34m\u001b[0m\u001b[0m\n",
      "\u001b[0;31mValueError\u001b[0m: cannot reshape array of size 1 into shape (3,3)"
     ]
    }
   ],
   "source": [
    "np.save('../sfmLearner_checkpoints/outputs/gt_depths.npy',np.array(gt_depths))\n",
    "pred_depths = pred_depths_resized"
   ]
  },
  {
   "cell_type": "code",
   "execution_count": null,
   "metadata": {},
   "outputs": [],
   "source": []
  }
 ]
}